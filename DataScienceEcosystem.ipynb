{
 "cells": [
  {
   "cell_type": "markdown",
   "id": "46cfaa27-40fc-4523-947c-b10a75e7d046",
   "metadata": {},
   "source": [
    "# Data Science Tools and Ecosystem\n"
   ]
  },
  {
   "cell_type": "markdown",
   "id": "a3315627-8e5c-40bc-8427-3950400675d6",
   "metadata": {},
   "source": [
    "# In this notebook, Data Science Tools and Ecosystem are summarized."
   ]
  },
  {
   "cell_type": "markdown",
   "id": "4259d609-7d49-4987-bc82-3a2a7cc00cb9",
   "metadata": {},
   "source": [
    "**Objectives:**\n",
    " \n",
    "* List the popular languages for Data Science\n",
    "* List the commonly used libraries in Data Science\n",
    "* List open source development environment tools used in Data Science\n",
    "* Simple arithmetic calculations in Jupyter Notebook\n"
   ]
  },
  {
   "cell_type": "markdown",
   "id": "188e303d-7e92-4133-8ab2-c59979dece4a",
   "metadata": {},
   "source": [
    "# Some of the popular languages that the Data Scientists use are:\n",
    "\n",
    "1. Python\n",
    "2. R\n",
    "3. SQL\n",
    "4. Scala\n",
    "5. Java\n",
    "6. C++\n",
    "7. Julia\n",
    "8. JScript\n",
    "9. PhP\n",
    "10. Go\n",
    "11.  Ruby  \n"
   ]
  },
  {
   "cell_type": "markdown",
   "id": "67c79348-4fa2-4113-82db-80766f46166a",
   "metadata": {},
   "source": [
    "# Some of the commonly used libraries by the Data Scientists include:\n",
    "\n",
    "* Python Libraries\n",
    " -Pandas, NumPy, Matplotlib, Seaborn, Plotly etc\n",
    "* Scala Libraries\n",
    " -Vegas, BigDL\n",
    "* R Libraries\n",
    " -ggplot2 and so on"
   ]
  },
  {
   "cell_type": "markdown",
   "id": "12d3c68d-ae3e-4084-af51-9d7bacc0501b",
   "metadata": {},
   "source": [
    "|Data Science Tools|\n",
    "|------------------|\n",
    "|RStudio|\n",
    "|Jupyter|\n",
    "|Jupyter Lab|\n",
    "|Spyder |\n",
    "|Apache Zepplin|"
   ]
  },
  {
   "cell_type": "markdown",
   "id": "ac2c168f-423f-4e35-a590-19f9cd176e35",
   "metadata": {},
   "source": [
    "### Below are a few examples of evaluating arithmetic expression in Python:"
   ]
  },
  {
   "cell_type": "code",
   "execution_count": 9,
   "id": "3500b51b-09c2-4f7a-b8a8-5355e7921814",
   "metadata": {},
   "outputs": [
    {
     "data": {
      "text/plain": [
       "17"
      ]
     },
     "execution_count": 9,
     "metadata": {},
     "output_type": "execute_result"
    }
   ],
   "source": [
    "# This is a simple arithmetic expression to multiply then add numbers\n",
    "(3*4)+5"
   ]
  },
  {
   "cell_type": "code",
   "execution_count": 10,
   "id": "d155d7bc-a550-412c-b291-b3e89392b626",
   "metadata": {},
   "outputs": [
    {
     "name": "stdout",
     "output_type": "stream",
     "text": [
      "3.3333333333333335 hours\n"
     ]
    }
   ],
   "source": [
    "# This will convert 200 minutes to hours by dividing by 60\n",
    "\n",
    "x= 200/60\n",
    "print (x ,\"hours\")"
   ]
  },
  {
   "cell_type": "markdown",
   "id": "76d5c436-60fb-406b-aba9-4fd1774f5eec",
   "metadata": {},
   "source": [
    "## Author\n",
    "Gunjan Narang"
   ]
  },
  {
   "cell_type": "code",
   "execution_count": null,
   "id": "a48c27c6-89d1-4b1a-83a1-fa90e3473d23",
   "metadata": {},
   "outputs": [],
   "source": []
  }
 ],
 "metadata": {
  "kernelspec": {
   "display_name": "Python 3 (ipykernel)",
   "language": "python",
   "name": "python3"
  },
  "language_info": {
   "codemirror_mode": {
    "name": "ipython",
    "version": 3
   },
   "file_extension": ".py",
   "mimetype": "text/x-python",
   "name": "python",
   "nbconvert_exporter": "python",
   "pygments_lexer": "ipython3",
   "version": "3.12.4"
  }
 },
 "nbformat": 4,
 "nbformat_minor": 5
}
